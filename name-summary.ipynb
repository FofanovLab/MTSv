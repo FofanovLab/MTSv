{
 "cells": [
  {
   "cell_type": "code",
   "execution_count": 1,
   "metadata": {
    "collapsed": true
   },
   "outputs": [],
   "source": [
    "import tarfile\n",
    "\n",
    "dump_path = '/mnt/large/small_genomes/taxdump.tar.gz'\n",
    "\n",
    "dump = tarfile.open(dump_path, \"r:gz\")"
   ]
  },
  {
   "cell_type": "code",
   "execution_count": 2,
   "metadata": {
    "collapsed": false
   },
   "outputs": [
    {
     "data": {
      "text/plain": [
       "1984035"
      ]
     },
     "execution_count": 2,
     "metadata": {},
     "output_type": "execute_result"
    }
   ],
   "source": [
    "names = dump.extractfile(dump.getmember('names.dmp')).read().split(b'\\t|\\n')\n",
    "len(names)"
   ]
  },
  {
   "cell_type": "code",
   "execution_count": 3,
   "metadata": {
    "collapsed": false
   },
   "outputs": [],
   "source": [
    "tax_id_names = {}\n",
    "\n",
    "for l in names:\n",
    "    if len(l) == 0:\n",
    "        continue\n",
    "        \n",
    "    tokens = l.split(b'\\t|\\t')\n",
    "    \n",
    "    taxid = int(tokens[0])\n",
    "    name = str(tokens[1])\n",
    "    unique = str(tokens[2])\n",
    "    name_class = str(tokens[3])\n",
    "    \n",
    "    n = tax_id_names.setdefault(taxid, {})\n",
    "    \n",
    "    if name_class != 'misspelling' and name_class != 'type material':\n",
    "        n[name_class] = name"
   ]
  },
  {
   "cell_type": "code",
   "execution_count": 44,
   "metadata": {
    "collapsed": false
   },
   "outputs": [],
   "source": [
    "from collections import Counter\n",
    "\n",
    "findings_path = '/mnt/large/small_genomes/informatives_lca1_genus.txt'\n",
    "\n",
    "with open(findings_path) as f:\n",
    "    contents = f.read()"
   ]
  },
  {
   "cell_type": "code",
   "execution_count": 45,
   "metadata": {
    "collapsed": false
   },
   "outputs": [],
   "source": [
    "taxid_file_counts = []\n",
    "\n",
    "for l in contents.split('\\n'):\n",
    "    if len(l) == 0:\n",
    "        continue;\n",
    "        \n",
    "    tokens = l.split(':')\n",
    "    \n",
    "    read_header = tokens[0]\n",
    "    tax_id = int(tokens[1])\n",
    "    \n",
    "    counts = [int(c) for c in read_header.split('_')[1:]]\n",
    "    \n",
    "    if len(taxid_file_counts) == 0:\n",
    "        for _ in range(0, len(counts)):\n",
    "            taxid_file_counts.append(list())\n",
    "            \n",
    "    for i, c in enumerate(counts):\n",
    "        for _ in range(0, c):\n",
    "            taxid_file_counts[i].append(tax_id)\n",
    "        \n",
    "taxid_file_counts = [Counter(c) for c in taxid_file_counts]"
   ]
  },
  {
   "cell_type": "code",
   "execution_count": 46,
   "metadata": {
    "collapsed": true
   },
   "outputs": [],
   "source": [
    "all_tax_ids = set()\n",
    "\n",
    "for c in taxid_file_counts:\n",
    "    for taxid in c:\n",
    "        all_tax_ids.add(taxid)"
   ]
  },
  {
   "cell_type": "code",
   "execution_count": 47,
   "metadata": {
    "collapsed": false
   },
   "outputs": [],
   "source": [
    "data = [[taxid, tax_id_names.get(taxid, {}).get(\"b'scientific name'\", \"b''\")[2:-1]] for taxid in all_tax_ids]"
   ]
  },
  {
   "cell_type": "code",
   "execution_count": 48,
   "metadata": {
    "collapsed": false
   },
   "outputs": [],
   "source": [
    "for l in data:\n",
    "    for c in taxid_file_counts:\n",
    "        l.append(c.get(l[0], 0))"
   ]
  },
  {
   "cell_type": "code",
   "execution_count": 49,
   "metadata": {
    "collapsed": false
   },
   "outputs": [],
   "source": [
    "for l in data:\n",
    "    total = sum(l[2:])\n",
    "    l.insert(0, total)"
   ]
  },
  {
   "cell_type": "code",
   "execution_count": 50,
   "metadata": {
    "collapsed": false
   },
   "outputs": [],
   "source": [
    "in_order = sorted(data, reverse=True)"
   ]
  },
  {
   "cell_type": "code",
   "execution_count": 51,
   "metadata": {
    "collapsed": false
   },
   "outputs": [
    {
     "data": {
      "text/plain": [
       "True"
      ]
     },
     "execution_count": 51,
     "metadata": {},
     "output_type": "execute_result"
    }
   ],
   "source": [
    "from os.path import basename, splitext\n",
    "\n",
    "input_files = [\n",
    "    '/scratch/vyf2/CR2/Reads/ready/Rmts_bact_SRR1270040.fastq.gz',\n",
    "    '/scratch/vyf2/CR2/Reads/ready/Rmts_bact_SRR1284500.fastq.gz',\n",
    "    '/scratch/vyf2/CR2/Reads/ready/Rmts_bact_SRR2084430.fastq.gz',\n",
    "    '/scratch/vyf2/CR2/Reads/ready/Rmts_bact_SRR2155541.fastq.gz',\n",
    "    '/scratch/vyf2/CR2/Reads/ready/Rmts_bact_SRR2164311.fastq.gz',\n",
    "    '/scratch/vyf2/CR2/Reads/ready/Rmts_bact_SRR2167785.fastq.gz',\n",
    "    '/scratch/vyf2/CR2/Reads/ready/Rmts_bact_SRR2171483.fastq.gz',\n",
    "    '/scratch/vyf2/CR2/Reads/ready/Rmts_bact_SRR2174564.fastq.gz',\n",
    "    '/scratch/vyf2/CR2/Reads/ready/Rmts_bact_SRR2175366.fastq.gz',\n",
    "    '/scratch/vyf2/CR2/Reads/ready/Rmts_bact_SRR2180979.fastq.gz',\n",
    "    '/scratch/vyf2/CR2/Reads/ready/Rmts_bact_SRR2182179.fastq.gz',\n",
    "    '/scratch/vyf2/CR2/Reads/ready/Rmts_bact_SRR2182227.fastq.gz',\n",
    "    '/scratch/vyf2/CR2/Reads/ready/Rmts_bact_SRR772892.fastq.gz',\n",
    "    '/scratch/vyf2/CR2/Reads/ready/Rmts_bact_SRR772893.fastq.gz',\n",
    "]\n",
    "\n",
    "input_files = [basename(p).split('.')[0] for p in input_files]\n",
    "\n",
    "len(input_files) == len(in_order[0][3:])"
   ]
  },
  {
   "cell_type": "code",
   "execution_count": 52,
   "metadata": {
    "collapsed": false
   },
   "outputs": [],
   "source": [
    "with open('/mnt/large/small_genomes/counts_lca1_genus.csv', 'w') as f:\n",
    "    headers = ['taxid', 'scientific name', 'total count']\n",
    "    for fn in input_files:\n",
    "        headers.append(fn)\n",
    "        \n",
    "    f.write(','.join(headers) + '\\n')\n",
    "    for record in in_order:\n",
    "        f.write(str(record[1]))\n",
    "        f.write(',')\n",
    "        f.write(str(record[2]))\n",
    "        f.write(',')\n",
    "        f.write(str(record[0]))\n",
    "        \n",
    "        for count in record[3:]:\n",
    "            f.write(',')\n",
    "            f.write(str(count))\n",
    "            \n",
    "        f.write('\\n')"
   ]
  }
 ],
 "metadata": {
  "kernelspec": {
   "display_name": "Python 3",
   "language": "python",
   "name": "python3"
  },
  "language_info": {
   "codemirror_mode": {
    "name": "ipython",
    "version": 3
   },
   "file_extension": ".py",
   "mimetype": "text/x-python",
   "name": "python",
   "nbconvert_exporter": "python",
   "pygments_lexer": "ipython3",
   "version": "3.5.2"
  }
 },
 "nbformat": 4,
 "nbformat_minor": 0
}
